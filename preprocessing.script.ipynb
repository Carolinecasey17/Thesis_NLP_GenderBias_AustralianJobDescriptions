{
 "cells": [
  {
   "cell_type": "code",
   "execution_count": 1,
   "metadata": {},
   "outputs": [],
   "source": [
    "\"\"\" Import Packages \"\"\"\n",
    "\n",
    "import pandas as pd\n",
    "import re \n",
    "\n",
    "import nltk\n",
    "from nltk.tokenize import word_tokenize\n",
    "from nltk.corpus import stopwords\n"
   ]
  },
  {
   "cell_type": "code",
   "execution_count": 2,
   "metadata": {},
   "outputs": [
    {
     "data": {
      "text/html": [
       "<div>\n",
       "<style scoped>\n",
       "    .dataframe tbody tr th:only-of-type {\n",
       "        vertical-align: middle;\n",
       "    }\n",
       "\n",
       "    .dataframe tbody tr th {\n",
       "        vertical-align: top;\n",
       "    }\n",
       "\n",
       "    .dataframe thead th {\n",
       "        text-align: right;\n",
       "    }\n",
       "</style>\n",
       "<table border=\"1\" class=\"dataframe\">\n",
       "  <thead>\n",
       "    <tr style=\"text-align: right;\">\n",
       "      <th></th>\n",
       "      <th>Job Title</th>\n",
       "      <th>Company</th>\n",
       "      <th>Location</th>\n",
       "      <th>Job Description</th>\n",
       "      <th>Salary</th>\n",
       "      <th>Rating</th>\n",
       "      <th>Reviews</th>\n",
       "      <th>Search Occupation</th>\n",
       "      <th>Search Location</th>\n",
       "      <th>Occupation</th>\n",
       "      <th>Industry</th>\n",
       "    </tr>\n",
       "  </thead>\n",
       "  <tbody>\n",
       "    <tr>\n",
       "      <th>0</th>\n",
       "      <td>Barista - The Coffee Club Sydney Olympic Park</td>\n",
       "      <td>The Coffee Club</td>\n",
       "      <td>Sydney Olympic Park NSW</td>\n",
       "      <td>Why work for us as a Barista at The Coffee Clu...</td>\n",
       "      <td>NaN</td>\n",
       "      <td>3.6</td>\n",
       "      <td>442.0</td>\n",
       "      <td>barista</td>\n",
       "      <td>sydney</td>\n",
       "      <td>Barista</td>\n",
       "      <td>Accommodation and Food Services</td>\n",
       "    </tr>\n",
       "    <tr>\n",
       "      <th>1</th>\n",
       "      <td>Barista Position at Sorry Thanks I Love You</td>\n",
       "      <td>Sorry Thanks I Love You</td>\n",
       "      <td>Sydney NSW</td>\n",
       "      <td>Sorry Thanks I Love YouWe've just unveiled our...</td>\n",
       "      <td>NaN</td>\n",
       "      <td>NaN</td>\n",
       "      <td>NaN</td>\n",
       "      <td>barista</td>\n",
       "      <td>sydney</td>\n",
       "      <td>Barista</td>\n",
       "      <td>Accommodation and Food Services</td>\n",
       "    </tr>\n",
       "    <tr>\n",
       "      <th>2</th>\n",
       "      <td>Retail &amp; Cafe Attendant</td>\n",
       "      <td>SEA LIFE Sydney</td>\n",
       "      <td>Sydney NSW</td>\n",
       "      <td>Retail &amp; Cafe AttendantSEA LIFE Sydney, 1-5 Wh...</td>\n",
       "      <td>NaN</td>\n",
       "      <td>NaN</td>\n",
       "      <td>NaN</td>\n",
       "      <td>barista</td>\n",
       "      <td>sydney</td>\n",
       "      <td>Barista</td>\n",
       "      <td>Accommodation and Food Services</td>\n",
       "    </tr>\n",
       "    <tr>\n",
       "      <th>3</th>\n",
       "      <td>Boardroom Waiter/Barista</td>\n",
       "      <td>The Clifford Wallace Agency</td>\n",
       "      <td>Sydney NSW</td>\n",
       "      <td>Boardroom Waiter/BaristaCasual SydneyClifford ...</td>\n",
       "      <td>NaN</td>\n",
       "      <td>4.7</td>\n",
       "      <td>3.0</td>\n",
       "      <td>barista</td>\n",
       "      <td>sydney</td>\n",
       "      <td>Barista</td>\n",
       "      <td>Accommodation and Food Services</td>\n",
       "    </tr>\n",
       "    <tr>\n",
       "      <th>4</th>\n",
       "      <td>Baristas</td>\n",
       "      <td>The Grounds of Alexandria</td>\n",
       "      <td>Sydney NSW 2000</td>\n",
       "      <td>As a Grounds Barista, you will have extensive ...</td>\n",
       "      <td>NaN</td>\n",
       "      <td>4</td>\n",
       "      <td>15.0</td>\n",
       "      <td>barista</td>\n",
       "      <td>sydney</td>\n",
       "      <td>Barista</td>\n",
       "      <td>Accommodation and Food Services</td>\n",
       "    </tr>\n",
       "  </tbody>\n",
       "</table>\n",
       "</div>"
      ],
      "text/plain": [
       "                                       Job Title                      Company  \\\n",
       "0  Barista - The Coffee Club Sydney Olympic Park              The Coffee Club   \n",
       "1    Barista Position at Sorry Thanks I Love You      Sorry Thanks I Love You   \n",
       "2                        Retail & Cafe Attendant              SEA LIFE Sydney   \n",
       "3                       Boardroom Waiter/Barista  The Clifford Wallace Agency   \n",
       "4                                       Baristas    The Grounds of Alexandria   \n",
       "\n",
       "                  Location                                    Job Description  \\\n",
       "0  Sydney Olympic Park NSW  Why work for us as a Barista at The Coffee Clu...   \n",
       "1               Sydney NSW  Sorry Thanks I Love YouWe've just unveiled our...   \n",
       "2               Sydney NSW  Retail & Cafe AttendantSEA LIFE Sydney, 1-5 Wh...   \n",
       "3               Sydney NSW  Boardroom Waiter/BaristaCasual SydneyClifford ...   \n",
       "4          Sydney NSW 2000  As a Grounds Barista, you will have extensive ...   \n",
       "\n",
       "  Salary Rating  Reviews Search Occupation Search Location Occupation  \\\n",
       "0    NaN    3.6    442.0           barista          sydney    Barista   \n",
       "1    NaN    NaN      NaN           barista          sydney    Barista   \n",
       "2    NaN    NaN      NaN           barista          sydney    Barista   \n",
       "3    NaN    4.7      3.0           barista          sydney    Barista   \n",
       "4    NaN      4     15.0           barista          sydney    Barista   \n",
       "\n",
       "                          Industry  \n",
       "0  Accommodation and Food Services  \n",
       "1  Accommodation and Food Services  \n",
       "2  Accommodation and Food Services  \n",
       "3  Accommodation and Food Services  \n",
       "4  Accommodation and Food Services  "
      ]
     },
     "execution_count": 2,
     "metadata": {},
     "output_type": "execute_result"
    }
   ],
   "source": [
    "\"\"\" Load scraped data file \"\"\"\n",
    "\n",
    "data = pd.read_csv('total_aussieindustries.csv', encoding='utf-8')\n",
    "data.head()"
   ]
  },
  {
   "cell_type": "code",
   "execution_count": 3,
   "metadata": {},
   "outputs": [
    {
     "data": {
      "text/plain": [
       "pandas.core.series.Series"
      ]
     },
     "execution_count": 3,
     "metadata": {},
     "output_type": "execute_result"
    }
   ],
   "source": [
    "\"\"\" Checking type in column \"\"\"\n",
    "\n",
    "type(data['Job Description'])"
   ]
  },
  {
   "cell_type": "code",
   "execution_count": 4,
   "metadata": {},
   "outputs": [
    {
     "name": "stdout",
     "output_type": "stream",
     "text": [
      "Why work for us as a Barista at The Coffee Club?Because here at The Coffee Club we are committed to making every member of our team feel part of our extended family — proud of who they are and empowered in their role to deliver on our brand vision.Thrive in a fast paced and dynamic team environment where you will be essential to consistently create the 'Happy Place' for our customers. In this role, coffee is the hero and your barista skills will shine!Here’s the story...From the very beginning The Coffee Club was founded on family, friends and customer needs. The idea was to create a place that was more than just somewhere for people to meet for coffee; it would be more casual, comfortable – yet sophisticated, stylish – yet affordable. Now serving millions of loyal customers as the world's largest Australian café chain.You are:Someone who understands that we’re The Coffee Club and ‘coffee’ is our middle name. We are serious about coffee - it is central to everything we do. So if you’re a Barista at The Coffee Club you need to have the following attributes:A Coffee Lover – you are passionate about making the perfect cup of coffee every time;Proud – you know that the perfect extraction is exactly 28 seconds, you value each rosetta you pour and you take pride in every aspect of your craft;A People Person – you know the name and coffee order of each of your regulars and find it easy to genuinely connect with both your customers and your team.Anything else?We have fun, we offer great training and we know you want to work somewhere that is more than just a job — you want a career. We can offer you that and then some!Work towards nationally recognised Hospitality qualifications;Take advantage of career progression opportunities;We are locals at heart and more than your average café.Want to know more about this role?Follow the link to read the Position Description:https://theclubhouse.coffeeclub.com.au/go/VV3Oi5How do I apply?Hit the Apply Now button!After you hit Apply:You will be asked a small number of questionsYou will need to upload a copy of your CV & Cover LetterIf you are successful in the initial screening process: we will contact you to discuss the role further.\n"
     ]
    }
   ],
   "source": [
    "\"\"\" Converting Job Description column to string \"\"\"\n",
    "\n",
    "data['Job Description'] = data['Job Description'].astype(str)\n",
    "print(data['Job Description'][0])"
   ]
  },
  {
   "cell_type": "code",
   "execution_count": 5,
   "metadata": {},
   "outputs": [
    {
     "name": "stdout",
     "output_type": "stream",
     "text": [
      "Why work for us as a Barista at The Coffee Club?Because here at The Coffee Club we are committed to making every member of our team feel part of our extended family — proud of who they are and empowered in their role to deliver on our brand vision.Thrive in a fast paced and dynamic team environment where you will be essential to consistently create the 'Happy Place' for our customers. In this role, coffee is the hero and your barista skills will shine!Here’s the story...From the very beginning The Coffee Club was founded on family, friends and customer needs. The idea was to create a place that was more than just somewhere for people to meet for coffee; it would be more casual, comfortable – yet sophisticated, stylish – yet affordable. Now serving millions of loyal customers as the world's largest Australian café chain.You are:Someone who understands that we’re The Coffee Club and ‘coffee’ is our middle name. We are serious about coffee - it is central to everything we do. So if you’re a Barista at The Coffee Club you need to have the following attributes:A Coffee Lover – you are passionate about making the perfect cup of coffee every time;Proud – you know that the perfect extraction is exactly 28 seconds, you value each rosetta you pour and you take pride in every aspect of your craft;A People Person – you know the name and coffee order of each of your regulars and find it easy to genuinely connect with both your customers and your team.Anything else?We have fun, we offer great training and we know you want to work somewhere that is more than just a job — you want a career. We can offer you that and then some!Work towards nationally recognised Hospitality qualifications;Take advantage of career progression opportunities;We are locals at heart and more than your average café.Want to know more about this role?Follow the link to read the Position Description: do I apply?Hit the Apply Now button!After you hit Apply:You will be asked a small number of questionsYou will need to upload a copy of your CV & Cover LetterIf you are successful in the initial screening process: we will contact you to discuss the role further.\n"
     ]
    }
   ],
   "source": [
    "\"\"\" Creating column for cleaned data and removing all strings starting with http \"\"\"\n",
    "\n",
    "data['clean'] = data['Job Description'].str.replace(r'http\\S+', '', regex = True)\n",
    "print(data['clean'][0])\n"
   ]
  },
  {
   "cell_type": "code",
   "execution_count": 6,
   "metadata": {},
   "outputs": [
    {
     "name": "stdout",
     "output_type": "stream",
     "text": [
      "Why work for us as a Barista at The Coffee Club Because here at The Coffee Club we are committed to making every member of our team feel part of our extended family proud of who they are and empowered in their role to deliver on our brand vision Thrive in a fast paced and dynamic team environment where you will be essential to consistently create the Happy Place for our customers In this role coffee is the hero and your barista skills will shine Here s the story From the very beginning The Coffee Club was founded on family friends and customer needs The idea was to create a place that was more than just somewhere for people to meet for coffee it would be more casual comfortable yet sophisticated stylish yet affordable Now serving millions of loyal customers as the world s largest Australian caf chain You are Someone who understands that we re The Coffee Club and coffee is our middle name We are serious about coffee it is central to everything we do So if you re a Barista at The Coffee Club you need to have the following attributes A Coffee Lover you are passionate about making the perfect cup of coffee every time Proud you know that the perfect extraction is exactly 28 seconds you value each rosetta you pour and you take pride in every aspect of your craft A People Person you know the name and coffee order of each of your regulars and find it easy to genuinely connect with both your customers and your team Anything else We have fun we offer great training and we know you want to work somewhere that is more than just a job you want a career We can offer you that and then some Work towards nationally recognised Hospitality qualifications Take advantage of career progression opportunities We are locals at heart and more than your average caf Want to know more about this role Follow the link to read the Position Description do I apply Hit the Apply Now button After you hit Apply You will be asked a small number of questionsYou will need to upload a copy of your CV Cover LetterIf you are successful in the initial screening process we will contact you to discuss the role further \n"
     ]
    }
   ],
   "source": [
    "\"\"\" Inserting whitespace in between all punctuation \"\"\"\n",
    "\n",
    "data['clean'] = data['clean'].str.replace(r'[^A-Za-z0-9]+', ' ', regex = True)\n",
    "print(data['clean'][0])\n"
   ]
  },
  {
   "cell_type": "code",
   "execution_count": 7,
   "metadata": {},
   "outputs": [
    {
     "name": "stderr",
     "output_type": "stream",
     "text": [
      "C:\\Users\\kilda\\AppData\\Local\\Temp\\ipykernel_21684\\2748338308.py:4: FutureWarning: The default value of regex will change from True to False in a future version.\n",
      "  data['clean'] = data['clean'].str.replace(r'([a-z](?=[A-Z])|[A-Z](?=[A-Z][a-z]))', r'\\1 ')\n"
     ]
    },
    {
     "name": "stdout",
     "output_type": "stream",
     "text": [
      "Why work for us as a Barista at The Coffee Club Because here at The Coffee Club we are committed to making every member of our team feel part of our extended family proud of who they are and empowered in their role to deliver on our brand vision Thrive in a fast paced and dynamic team environment where you will be essential to consistently create the Happy Place for our customers In this role coffee is the hero and your barista skills will shine Here s the story From the very beginning The Coffee Club was founded on family friends and customer needs The idea was to create a place that was more than just somewhere for people to meet for coffee it would be more casual comfortable yet sophisticated stylish yet affordable Now serving millions of loyal customers as the world s largest Australian caf chain You are Someone who understands that we re The Coffee Club and coffee is our middle name We are serious about coffee it is central to everything we do So if you re a Barista at The Coffee Club you need to have the following attributes A Coffee Lover you are passionate about making the perfect cup of coffee every time Proud you know that the perfect extraction is exactly 28 seconds you value each rosetta you pour and you take pride in every aspect of your craft A People Person you know the name and coffee order of each of your regulars and find it easy to genuinely connect with both your customers and your team Anything else We have fun we offer great training and we know you want to work somewhere that is more than just a job you want a career We can offer you that and then some Work towards nationally recognised Hospitality qualifications Take advantage of career progression opportunities We are locals at heart and more than your average caf Want to know more about this role Follow the link to read the Position Description do I apply Hit the Apply Now button After you hit Apply You will be asked a small number of questions You will need to upload a copy of your CV Cover Letter If you are successful in the initial screening process we will contact you to discuss the role further \n"
     ]
    }
   ],
   "source": [
    "\"\"\" Quite a lot of words are merged, but have an upper case letter (e.g) LetterIF. \n",
    "Replacing lower/upper case pattern with whitespace. \"\"\"\n",
    "\n",
    "data['clean'] = data['clean'].str.replace(r'([a-z](?=[A-Z])|[A-Z](?=[A-Z][a-z]))', r'\\1 ')\n",
    "print(data['clean'][0])\n"
   ]
  },
  {
   "cell_type": "code",
   "execution_count": 8,
   "metadata": {},
   "outputs": [
    {
     "name": "stdout",
     "output_type": "stream",
     "text": [
      "why work for us as a barista at the coffee club because here at the coffee club we are committed to making every member of our team feel part of our extended family proud of who they are and empowered in their role to deliver on our brand vision thrive in a fast paced and dynamic team environment where you will be essential to consistently create the happy place for our customers in this role coffee is the hero and your barista skills will shine here s the story from the very beginning the coffee club was founded on family friends and customer needs the idea was to create a place that was more than just somewhere for people to meet for coffee it would be more casual comfortable yet sophisticated stylish yet affordable now serving millions of loyal customers as the world s largest australian caf chain you are someone who understands that we re the coffee club and coffee is our middle name we are serious about coffee it is central to everything we do so if you re a barista at the coffee club you need to have the following attributes a coffee lover you are passionate about making the perfect cup of coffee every time proud you know that the perfect extraction is exactly 28 seconds you value each rosetta you pour and you take pride in every aspect of your craft a people person you know the name and coffee order of each of your regulars and find it easy to genuinely connect with both your customers and your team anything else we have fun we offer great training and we know you want to work somewhere that is more than just a job you want a career we can offer you that and then some work towards nationally recognised hospitality qualifications take advantage of career progression opportunities we are locals at heart and more than your average caf want to know more about this role follow the link to read the position description do i apply hit the apply now button after you hit apply you will be asked a small number of questions you will need to upload a copy of your cv cover letter if you are successful in the initial screening process we will contact you to discuss the role further \n"
     ]
    }
   ],
   "source": [
    "\"\"\" Now we can lower case all text \"\"\"\n",
    "\n",
    "data['clean']= data['clean'].apply(lambda x: x.lower())\n",
    "print(data['clean'][0])"
   ]
  },
  {
   "cell_type": "code",
   "execution_count": 9,
   "metadata": {},
   "outputs": [],
   "source": [
    "\"\"\" Selecting tokenizer from nltk \"\"\"\n",
    "tokenizer = nltk.tokenize.TreebankWordTokenizer()"
   ]
  },
  {
   "cell_type": "code",
   "execution_count": 10,
   "metadata": {},
   "outputs": [
    {
     "name": "stdout",
     "output_type": "stream",
     "text": [
      "['why', 'work', 'for', 'us', 'as', 'a', 'barista', 'at', 'the', 'coffee', 'club', 'because', 'here', 'at', 'the', 'coffee', 'club', 'we', 'are', 'committed', 'to', 'making', 'every', 'member', 'of', 'our', 'team', 'feel', 'part', 'of', 'our', 'extended', 'family', 'proud', 'of', 'who', 'they', 'are', 'and', 'empowered', 'in', 'their', 'role', 'to', 'deliver', 'on', 'our', 'brand', 'vision', 'thrive', 'in', 'a', 'fast', 'paced', 'and', 'dynamic', 'team', 'environment', 'where', 'you', 'will', 'be', 'essential', 'to', 'consistently', 'create', 'the', 'happy', 'place', 'for', 'our', 'customers', 'in', 'this', 'role', 'coffee', 'is', 'the', 'hero', 'and', 'your', 'barista', 'skills', 'will', 'shine', 'here', 's', 'the', 'story', 'from', 'the', 'very', 'beginning', 'the', 'coffee', 'club', 'was', 'founded', 'on', 'family', 'friends', 'and', 'customer', 'needs', 'the', 'idea', 'was', 'to', 'create', 'a', 'place', 'that', 'was', 'more', 'than', 'just', 'somewhere', 'for', 'people', 'to', 'meet', 'for', 'coffee', 'it', 'would', 'be', 'more', 'casual', 'comfortable', 'yet', 'sophisticated', 'stylish', 'yet', 'affordable', 'now', 'serving', 'millions', 'of', 'loyal', 'customers', 'as', 'the', 'world', 's', 'largest', 'australian', 'caf', 'chain', 'you', 'are', 'someone', 'who', 'understands', 'that', 'we', 're', 'the', 'coffee', 'club', 'and', 'coffee', 'is', 'our', 'middle', 'name', 'we', 'are', 'serious', 'about', 'coffee', 'it', 'is', 'central', 'to', 'everything', 'we', 'do', 'so', 'if', 'you', 're', 'a', 'barista', 'at', 'the', 'coffee', 'club', 'you', 'need', 'to', 'have', 'the', 'following', 'attributes', 'a', 'coffee', 'lover', 'you', 'are', 'passionate', 'about', 'making', 'the', 'perfect', 'cup', 'of', 'coffee', 'every', 'time', 'proud', 'you', 'know', 'that', 'the', 'perfect', 'extraction', 'is', 'exactly', '28', 'seconds', 'you', 'value', 'each', 'rosetta', 'you', 'pour', 'and', 'you', 'take', 'pride', 'in', 'every', 'aspect', 'of', 'your', 'craft', 'a', 'people', 'person', 'you', 'know', 'the', 'name', 'and', 'coffee', 'order', 'of', 'each', 'of', 'your', 'regulars', 'and', 'find', 'it', 'easy', 'to', 'genuinely', 'connect', 'with', 'both', 'your', 'customers', 'and', 'your', 'team', 'anything', 'else', 'we', 'have', 'fun', 'we', 'offer', 'great', 'training', 'and', 'we', 'know', 'you', 'want', 'to', 'work', 'somewhere', 'that', 'is', 'more', 'than', 'just', 'a', 'job', 'you', 'want', 'a', 'career', 'we', 'can', 'offer', 'you', 'that', 'and', 'then', 'some', 'work', 'towards', 'nationally', 'recognised', 'hospitality', 'qualifications', 'take', 'advantage', 'of', 'career', 'progression', 'opportunities', 'we', 'are', 'locals', 'at', 'heart', 'and', 'more', 'than', 'your', 'average', 'caf', 'want', 'to', 'know', 'more', 'about', 'this', 'role', 'follow', 'the', 'link', 'to', 'read', 'the', 'position', 'description', 'do', 'i', 'apply', 'hit', 'the', 'apply', 'now', 'button', 'after', 'you', 'hit', 'apply', 'you', 'will', 'be', 'asked', 'a', 'small', 'number', 'of', 'questions', 'you', 'will', 'need', 'to', 'upload', 'a', 'copy', 'of', 'your', 'cv', 'cover', 'letter', 'if', 'you', 'are', 'successful', 'in', 'the', 'initial', 'screening', 'process', 'we', 'will', 'contact', 'you', 'to', 'discuss', 'the', 'role', 'further']\n"
     ]
    }
   ],
   "source": [
    "\"\"\" Tokenize text \"\"\"\n",
    "\n",
    "data['clean']= data['clean'].apply(lambda x: tokenizer.tokenize(x))\n",
    "print(data['clean'][0])"
   ]
  },
  {
   "cell_type": "code",
   "execution_count": 11,
   "metadata": {},
   "outputs": [
    {
     "name": "stdout",
     "output_type": "stream",
     "text": [
      "['i', 'me', 'my', 'myself', 'we', 'our', 'ours', 'ourselves', 'you', \"you're\", \"you've\", \"you'll\", \"you'd\", 'your', 'yours', 'yourself', 'yourselves', 'he', 'him', 'his', 'himself', 'she', \"she's\", 'her', 'hers', 'herself', 'it', \"it's\", 'its', 'itself', 'they', 'them', 'their', 'theirs', 'themselves', 'what', 'which', 'who', 'whom', 'this', 'that', \"that'll\", 'these', 'those', 'am', 'is', 'are', 'was', 'were', 'be', 'been', 'being', 'have', 'has', 'had', 'having', 'do', 'does', 'did', 'doing', 'a', 'an', 'the', 'and', 'but', 'if', 'or', 'because', 'as', 'until', 'while', 'of', 'at', 'by', 'for', 'with', 'about', 'against', 'between', 'into', 'through', 'during', 'before', 'after', 'above', 'below', 'to', 'from', 'up', 'down', 'in', 'out', 'on', 'off', 'over', 'under', 'again', 'further', 'then', 'once', 'here', 'there', 'when', 'where', 'why', 'how', 'all', 'any', 'both', 'each', 'few', 'more', 'most', 'other', 'some', 'such', 'no', 'nor', 'not', 'only', 'own', 'same', 'so', 'than', 'too', 'very', 's', 't', 'can', 'will', 'just', 'don', \"don't\", 'should', \"should've\", 'now', 'd', 'll', 'm', 'o', 're', 've', 'y', 'ain', 'aren', \"aren't\", 'couldn', \"couldn't\", 'didn', \"didn't\", 'doesn', \"doesn't\", 'hadn', \"hadn't\", 'hasn', \"hasn't\", 'haven', \"haven't\", 'isn', \"isn't\", 'ma', 'mightn', \"mightn't\", 'mustn', \"mustn't\", 'needn', \"needn't\", 'shan', \"shan't\", 'shouldn', \"shouldn't\", 'wasn', \"wasn't\", 'weren', \"weren't\", 'won', \"won't\", 'wouldn', \"wouldn't\"]\n"
     ]
    }
   ],
   "source": [
    "\"\"\" Loading and inspecting stopwords \"\"\"\n",
    "\n",
    "stops = list(stopwords.words('english'))\n",
    "print(stops)"
   ]
  },
  {
   "cell_type": "code",
   "execution_count": 12,
   "metadata": {},
   "outputs": [
    {
     "name": "stdout",
     "output_type": "stream",
     "text": [
      "['work', 'us', 'barista', 'coffee', 'club', 'coffee', 'club', 'committed', 'making', 'every', 'member', 'team', 'feel', 'part', 'extended', 'family', 'proud', 'empowered', 'role', 'deliver', 'brand', 'vision', 'thrive', 'fast', 'paced', 'dynamic', 'team', 'environment', 'essential', 'consistently', 'create', 'happy', 'place', 'customers', 'role', 'coffee', 'hero', 'barista', 'skills', 'shine', 'story', 'beginning', 'coffee', 'club', 'founded', 'family', 'friends', 'customer', 'needs', 'idea', 'create', 'place', 'somewhere', 'people', 'meet', 'coffee', 'would', 'casual', 'comfortable', 'yet', 'sophisticated', 'stylish', 'yet', 'affordable', 'serving', 'millions', 'loyal', 'customers', 'world', 'largest', 'australian', 'caf', 'chain', 'someone', 'understands', 'coffee', 'club', 'coffee', 'middle', 'name', 'serious', 'coffee', 'central', 'everything', 'barista', 'coffee', 'club', 'need', 'following', 'attributes', 'coffee', 'lover', 'passionate', 'making', 'perfect', 'cup', 'coffee', 'every', 'time', 'proud', 'know', 'perfect', 'extraction', 'exactly', '28', 'seconds', 'value', 'rosetta', 'pour', 'take', 'pride', 'every', 'aspect', 'craft', 'people', 'person', 'know', 'name', 'coffee', 'order', 'regulars', 'find', 'easy', 'genuinely', 'connect', 'customers', 'team', 'anything', 'else', 'fun', 'offer', 'great', 'training', 'know', 'want', 'work', 'somewhere', 'job', 'want', 'career', 'offer', 'work', 'towards', 'nationally', 'recognised', 'hospitality', 'qualifications', 'take', 'advantage', 'career', 'progression', 'opportunities', 'locals', 'heart', 'average', 'caf', 'want', 'know', 'role', 'follow', 'link', 'read', 'position', 'description', 'apply', 'hit', 'apply', 'button', 'hit', 'apply', 'asked', 'small', 'number', 'questions', 'need', 'upload', 'copy', 'cv', 'cover', 'letter', 'successful', 'initial', 'screening', 'process', 'contact', 'discuss', 'role']\n"
     ]
    }
   ],
   "source": [
    "\"\"\" Removing stopwords \"\"\"\n",
    "\n",
    "data['clean']= data['clean'].apply(lambda x: [word for word in x if word not in stops])\n",
    "print(data['clean'][0])"
   ]
  },
  {
   "cell_type": "code",
   "execution_count": 13,
   "metadata": {},
   "outputs": [
    {
     "name": "stdout",
     "output_type": "stream",
     "text": [
      "['work', 'us', 'barista', 'coffee', 'club', 'coffee', 'club', 'committed', 'making', 'every', 'member', 'team', 'feel', 'part', 'extended', 'family', 'proud', 'empowered', 'role', 'deliver', 'brand', 'vision', 'thrive', 'fast', 'paced', 'dynamic', 'team', 'environment', 'essential', 'consistently', 'create', 'happy', 'place', 'customers', 'role', 'coffee', 'hero', 'barista', 'skills', 'shine', 'story', 'beginning', 'coffee', 'club', 'founded', 'family', 'friends', 'customer', 'needs', 'idea', 'create', 'place', 'somewhere', 'people', 'meet', 'coffee', 'would', 'casual', 'comfortable', 'yet', 'sophisticated', 'stylish', 'yet', 'affordable', 'serving', 'millions', 'loyal', 'customers', 'world', 'largest', 'australian', 'caf', 'chain', 'someone', 'understands', 'coffee', 'club', 'coffee', 'middle', 'name', 'serious', 'coffee', 'central', 'everything', 'barista', 'coffee', 'club', 'need', 'following', 'attributes', 'coffee', 'lover', 'passionate', 'making', 'perfect', 'cup', 'coffee', 'every', 'time', 'proud', 'know', 'perfect', 'extraction', 'exactly', '28', 'seconds', 'value', 'rosetta', 'pour', 'take', 'pride', 'every', 'aspect', 'craft', 'people', 'person', 'know', 'name', 'coffee', 'order', 'regulars', 'find', 'easy', 'genuinely', 'connect', 'customers', 'team', 'anything', 'else', 'fun', 'offer', 'great', 'training', 'know', 'want', 'work', 'somewhere', 'job', 'want', 'career', 'offer', 'work', 'towards', 'nationally', 'recognised', 'hospitality', 'qualifications', 'take', 'advantage', 'career', 'progression', 'opportunities', 'locals', 'heart', 'average', 'caf', 'want', 'know', 'role', 'follow', 'link', 'read', 'position', 'description', 'apply', 'hit', 'apply', 'button', 'hit', 'apply', 'asked', 'small', 'number', 'questions', 'need', 'upload', 'copy', 'cv', 'cover', 'letter', 'successful', 'initial', 'screening', 'process', 'contact', 'discuss', 'role']\n"
     ]
    }
   ],
   "source": [
    "print(data['clean'][0])"
   ]
  },
  {
   "cell_type": "code",
   "execution_count": 14,
   "metadata": {},
   "outputs": [
    {
     "data": {
      "text/plain": [
       "list"
      ]
     },
     "execution_count": 14,
     "metadata": {},
     "output_type": "execute_result"
    }
   ],
   "source": [
    "\"\"\" Checking data type for row in column \"\"\"\n",
    "\n",
    "type(data['clean'][0])"
   ]
  },
  {
   "cell_type": "code",
   "execution_count": 15,
   "metadata": {},
   "outputs": [],
   "source": [
    "\"\"\" Save cleaned data to dataframe to .csv file \"\"\"\n",
    "\n",
    "data.to_csv(\"data_cleaned_properly.csv\")"
   ]
  }
 ],
 "metadata": {
  "interpreter": {
   "hash": "5e24e9fa0c2d7de56cfe89077838e00512537972f092c8da3501dea7058d4d92"
  },
  "kernelspec": {
   "display_name": "Python 3.9.2 ('.venv': venv)",
   "language": "python",
   "name": "python3"
  },
  "language_info": {
   "codemirror_mode": {
    "name": "ipython",
    "version": 3
   },
   "file_extension": ".py",
   "mimetype": "text/x-python",
   "name": "python",
   "nbconvert_exporter": "python",
   "pygments_lexer": "ipython3",
   "version": "3.9.2"
  },
  "orig_nbformat": 4
 },
 "nbformat": 4,
 "nbformat_minor": 2
}
